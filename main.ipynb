{
 "cells": [
  {
   "cell_type": "code",
   "execution_count": 4,
   "metadata": {},
   "outputs": [],
   "source": [
    "import pandas as pd\n",
    "import json"
   ]
  },
  {
   "cell_type": "markdown",
   "metadata": {},
   "source": [
    "# JSONを読み込む\n",
    "## シンプルな構造のJSON\n",
    "[link: JSONファイルをフラットなpandasデータフレームに変換](https://qiita.com/kawada2017/items/937b6bd5ea81ea7974ad \"JSONファイルをフラットなpandasデータフレームに変換\")"
   ]
  },
  {
   "cell_type": "code",
   "execution_count": 2,
   "metadata": {},
   "outputs": [
    {
     "data": {
      "text/html": [
       "<div>\n",
       "<style scoped>\n",
       "    .dataframe tbody tr th:only-of-type {\n",
       "        vertical-align: middle;\n",
       "    }\n",
       "\n",
       "    .dataframe tbody tr th {\n",
       "        vertical-align: top;\n",
       "    }\n",
       "\n",
       "    .dataframe thead th {\n",
       "        text-align: right;\n",
       "    }\n",
       "</style>\n",
       "<table border=\"1\" class=\"dataframe\">\n",
       "  <thead>\n",
       "    <tr style=\"text-align: right;\">\n",
       "      <th></th>\n",
       "      <th>id</th>\n",
       "      <th>UP_TIME</th>\n",
       "      <th>POWER</th>\n",
       "      <th>TEMP</th>\n",
       "      <th>ERR_CD</th>\n",
       "    </tr>\n",
       "  </thead>\n",
       "  <tbody>\n",
       "    <tr>\n",
       "      <th>0</th>\n",
       "      <td>1000</td>\n",
       "      <td>0</td>\n",
       "      <td>948</td>\n",
       "      <td>250</td>\n",
       "      <td>NaN</td>\n",
       "    </tr>\n",
       "    <tr>\n",
       "      <th>1</th>\n",
       "      <td>1000</td>\n",
       "      <td>1</td>\n",
       "      <td>945</td>\n",
       "      <td>251</td>\n",
       "      <td>1.0</td>\n",
       "    </tr>\n",
       "  </tbody>\n",
       "</table>\n",
       "</div>"
      ],
      "text/plain": [
       "     id  UP_TIME  POWER  TEMP  ERR_CD\n",
       "0  1000        0    948   250     NaN\n",
       "1  1000        1    945   251     1.0"
      ]
     },
     "execution_count": 2,
     "metadata": {},
     "output_type": "execute_result"
    }
   ],
   "source": [
    "# sample1\n",
    "json_file='sample1.json'\n",
    "df = pd.read_json(json_file)\n",
    "df"
   ]
  },
  {
   "cell_type": "markdown",
   "metadata": {},
   "source": [
    "## ネスト構造"
   ]
  },
  {
   "cell_type": "code",
   "execution_count": 3,
   "metadata": {},
   "outputs": [
    {
     "data": {
      "text/html": [
       "<div>\n",
       "<style scoped>\n",
       "    .dataframe tbody tr th:only-of-type {\n",
       "        vertical-align: middle;\n",
       "    }\n",
       "\n",
       "    .dataframe tbody tr th {\n",
       "        vertical-align: top;\n",
       "    }\n",
       "\n",
       "    .dataframe thead th {\n",
       "        text-align: right;\n",
       "    }\n",
       "</style>\n",
       "<table border=\"1\" class=\"dataframe\">\n",
       "  <thead>\n",
       "    <tr style=\"text-align: right;\">\n",
       "      <th></th>\n",
       "      <th>id</th>\n",
       "      <th>sensor</th>\n",
       "      <th>code</th>\n",
       "    </tr>\n",
       "  </thead>\n",
       "  <tbody>\n",
       "    <tr>\n",
       "      <th>0</th>\n",
       "      <td>{'M_CD': 1000, 'UP_TIME': 0}</td>\n",
       "      <td>{'POWER': 948, 'TEMP': 250}</td>\n",
       "      <td>NaN</td>\n",
       "    </tr>\n",
       "    <tr>\n",
       "      <th>1</th>\n",
       "      <td>{'M_CD': 1000, 'UP_TIME': 1}</td>\n",
       "      <td>{'POWER': 945, 'TEMP': 251}</td>\n",
       "      <td>{'ERR_CD': 1}</td>\n",
       "    </tr>\n",
       "  </tbody>\n",
       "</table>\n",
       "</div>"
      ],
      "text/plain": [
       "                             id                       sensor           code\n",
       "0  {'M_CD': 1000, 'UP_TIME': 0}  {'POWER': 948, 'TEMP': 250}            NaN\n",
       "1  {'M_CD': 1000, 'UP_TIME': 1}  {'POWER': 945, 'TEMP': 251}  {'ERR_CD': 1}"
      ]
     },
     "execution_count": 3,
     "metadata": {},
     "output_type": "execute_result"
    }
   ],
   "source": [
    "# sample2をまずはそのまま読み込む\n",
    "json_file='sample2.json'\n",
    "df = pd.read_json(json_file)\n",
    "df"
   ]
  },
  {
   "cell_type": "markdown",
   "metadata": {},
   "source": [
    "- 読み込むことはできるが入れ子構造がうまく解析されていない\n",
    "## json.loadで配列に読み出す"
   ]
  },
  {
   "cell_type": "code",
   "execution_count": 5,
   "metadata": {},
   "outputs": [
    {
     "data": {
      "text/html": [
       "<div>\n",
       "<style scoped>\n",
       "    .dataframe tbody tr th:only-of-type {\n",
       "        vertical-align: middle;\n",
       "    }\n",
       "\n",
       "    .dataframe tbody tr th {\n",
       "        vertical-align: top;\n",
       "    }\n",
       "\n",
       "    .dataframe thead th {\n",
       "        text-align: right;\n",
       "    }\n",
       "</style>\n",
       "<table border=\"1\" class=\"dataframe\">\n",
       "  <thead>\n",
       "    <tr style=\"text-align: right;\">\n",
       "      <th></th>\n",
       "      <th>id.M_CD</th>\n",
       "      <th>id.UP_TIME</th>\n",
       "      <th>sensor.POWER</th>\n",
       "      <th>sensor.TEMP</th>\n",
       "      <th>code.ERR_CD</th>\n",
       "    </tr>\n",
       "  </thead>\n",
       "  <tbody>\n",
       "    <tr>\n",
       "      <th>0</th>\n",
       "      <td>1000</td>\n",
       "      <td>0</td>\n",
       "      <td>948</td>\n",
       "      <td>250</td>\n",
       "      <td>NaN</td>\n",
       "    </tr>\n",
       "    <tr>\n",
       "      <th>1</th>\n",
       "      <td>1000</td>\n",
       "      <td>1</td>\n",
       "      <td>945</td>\n",
       "      <td>251</td>\n",
       "      <td>1.0</td>\n",
       "    </tr>\n",
       "  </tbody>\n",
       "</table>\n",
       "</div>"
      ],
      "text/plain": [
       "   id.M_CD  id.UP_TIME  sensor.POWER  sensor.TEMP  code.ERR_CD\n",
       "0     1000           0           948          250          NaN\n",
       "1     1000           1           945          251          1.0"
      ]
     },
     "execution_count": 5,
     "metadata": {},
     "output_type": "execute_result"
    }
   ],
   "source": [
    "with open(json_file, encoding='utf-8') as f:\n",
    "    nest_json_data = json.load(f)\n",
    "\n",
    "# pandasでノーマライズ\n",
    "df = pd.json_normalize(nest_json_data)\n",
    "df"
   ]
  },
  {
   "cell_type": "markdown",
   "metadata": {},
   "source": [
    "## ネスト構造かつリストを含む場合\n",
    "- まずはノーマライズしてみる"
   ]
  },
  {
   "cell_type": "code",
   "execution_count": 6,
   "metadata": {},
   "outputs": [
    {
     "data": {
      "text/html": [
       "<div>\n",
       "<style scoped>\n",
       "    .dataframe tbody tr th:only-of-type {\n",
       "        vertical-align: middle;\n",
       "    }\n",
       "\n",
       "    .dataframe tbody tr th {\n",
       "        vertical-align: top;\n",
       "    }\n",
       "\n",
       "    .dataframe thead th {\n",
       "        text-align: right;\n",
       "    }\n",
       "</style>\n",
       "<table border=\"1\" class=\"dataframe\">\n",
       "  <thead>\n",
       "    <tr style=\"text-align: right;\">\n",
       "      <th></th>\n",
       "      <th>id.M_CD</th>\n",
       "      <th>id.UP_TIME</th>\n",
       "      <th>sensor.POWER</th>\n",
       "      <th>sensor.TEMP</th>\n",
       "      <th>code</th>\n",
       "    </tr>\n",
       "  </thead>\n",
       "  <tbody>\n",
       "    <tr>\n",
       "      <th>0</th>\n",
       "      <td>1000</td>\n",
       "      <td>0</td>\n",
       "      <td>948</td>\n",
       "      <td>250</td>\n",
       "      <td>NaN</td>\n",
       "    </tr>\n",
       "    <tr>\n",
       "      <th>1</th>\n",
       "      <td>1000</td>\n",
       "      <td>1</td>\n",
       "      <td>945</td>\n",
       "      <td>251</td>\n",
       "      <td>[{'ERR_CD': 1, 'MESSAGE': 'part1'}]</td>\n",
       "    </tr>\n",
       "    <tr>\n",
       "      <th>2</th>\n",
       "      <td>1000</td>\n",
       "      <td>2</td>\n",
       "      <td>943</td>\n",
       "      <td>255</td>\n",
       "      <td>[{'ERR_CD': 2, 'MESSAGE': 'part2'}, {'ERR_CD':...</td>\n",
       "    </tr>\n",
       "  </tbody>\n",
       "</table>\n",
       "</div>"
      ],
      "text/plain": [
       "   id.M_CD  id.UP_TIME  sensor.POWER  sensor.TEMP  \\\n",
       "0     1000           0           948          250   \n",
       "1     1000           1           945          251   \n",
       "2     1000           2           943          255   \n",
       "\n",
       "                                                code  \n",
       "0                                                NaN  \n",
       "1                [{'ERR_CD': 1, 'MESSAGE': 'part1'}]  \n",
       "2  [{'ERR_CD': 2, 'MESSAGE': 'part2'}, {'ERR_CD':...  "
      ]
     },
     "execution_count": 6,
     "metadata": {},
     "output_type": "execute_result"
    }
   ],
   "source": [
    "json_file = 'sample3.json'\n",
    "\n",
    "with open(json_file, encoding='utf-8') as f:\n",
    "    nest_json_data = json.load(f)\n",
    "\n",
    "# pandasでノーマライズ\n",
    "df = pd.json_normalize(nest_json_data)\n",
    "df"
   ]
  },
  {
   "cell_type": "markdown",
   "metadata": {},
   "source": [
    "## フラット化しPandasで読み込む関数"
   ]
  },
  {
   "cell_type": "code",
   "execution_count": 8,
   "metadata": {},
   "outputs": [],
   "source": [
    "# フラット化\n",
    "def flatten(d, parent_key='', sep='.'):\n",
    "    items = []\n",
    "    for k, v in d.items():\n",
    "        # 列名の生成\n",
    "        new_key = parent_key + sep + k if parent_key else k\n",
    "        # 辞書型項目のフラット化\n",
    "        if isinstance(v, dict):\n",
    "            items.extend(flatten(v, new_key, sep=sep).items())\n",
    "        # リスト項目のフラット化\n",
    "        elif isinstance(v, list):\n",
    "            new_key_tmp = new_key\n",
    "            for i, elm in enumerate(v):\n",
    "                new_key = new_key_tmp + sep + str(i)\n",
    "                # リストの中の辞書\n",
    "                if isinstance(elm, dict):\n",
    "                    items.extend(flatten(elm, new_key, sep=sep).items())\n",
    "                # 単なるリスト\n",
    "                else:\n",
    "                    items.append((new_key, elm))\n",
    "        # 値追加\n",
    "        else:\n",
    "            items.append((new_key, v))\n",
    "    return dict(items)\n",
    "\n",
    "\n",
    "def flattenJsonFile(jsonfile, rowsroot, sep='.'):\n",
    "    \"\"\"\n",
    "    JSONファイルを読み込み2次元のpandas DataFrameに変換する\n",
    "\n",
    "    Parameters\n",
    "    ----------\n",
    "    jsonfile : string\n",
    "        JSONファイルパス\n",
    "    rowsroot : string\n",
    "        フラット化するルートエレメント名。トップからでいい場合は空文字を入力する\n",
    "    sep : string\n",
    "        ノーマライズされていないエレメントを区切る文字\n",
    "\n",
    "    Returns\n",
    "    -------\n",
    "    df : pandas.DataFrame\n",
    "        フラット化されたpandas DataFrame\n",
    "    \"\"\"\n",
    "    # JSONファイルを読込\n",
    "    with open(jsonfile, encoding='utf-8') as f:\n",
    "        d = json.load(f)\n",
    "\n",
    "    # df化したい辞書リストのルート項目を指定\n",
    "    if rowsroot != '':\n",
    "        d = d[rowsroot]\n",
    "\n",
    "    # フラット化\n",
    "    dlist = []\n",
    "    for di in d:\n",
    "        dlist.append(flatten(di, sep=sep))\n",
    "\n",
    "    # フラット化された辞書をpandasデータフレームに変換\n",
    "    return pd.DataFrame.from_dict(dlist)\n"
   ]
  },
  {
   "cell_type": "code",
   "execution_count": 11,
   "metadata": {},
   "outputs": [
    {
     "data": {
      "text/html": [
       "<div>\n",
       "<style scoped>\n",
       "    .dataframe tbody tr th:only-of-type {\n",
       "        vertical-align: middle;\n",
       "    }\n",
       "\n",
       "    .dataframe tbody tr th {\n",
       "        vertical-align: top;\n",
       "    }\n",
       "\n",
       "    .dataframe thead th {\n",
       "        text-align: right;\n",
       "    }\n",
       "</style>\n",
       "<table border=\"1\" class=\"dataframe\">\n",
       "  <thead>\n",
       "    <tr style=\"text-align: right;\">\n",
       "      <th></th>\n",
       "      <th>id.M_CD</th>\n",
       "      <th>id.UP_TIME</th>\n",
       "      <th>sensor.POWER</th>\n",
       "      <th>sensor.TEMP</th>\n",
       "      <th>code.0.ERR_CD</th>\n",
       "      <th>code.0.MESSAGE</th>\n",
       "      <th>code.1.ERR_CD</th>\n",
       "      <th>code.1.MESSAGE</th>\n",
       "    </tr>\n",
       "  </thead>\n",
       "  <tbody>\n",
       "    <tr>\n",
       "      <th>0</th>\n",
       "      <td>1000</td>\n",
       "      <td>0</td>\n",
       "      <td>948</td>\n",
       "      <td>250</td>\n",
       "      <td>NaN</td>\n",
       "      <td>NaN</td>\n",
       "      <td>NaN</td>\n",
       "      <td>NaN</td>\n",
       "    </tr>\n",
       "    <tr>\n",
       "      <th>1</th>\n",
       "      <td>1000</td>\n",
       "      <td>1</td>\n",
       "      <td>945</td>\n",
       "      <td>251</td>\n",
       "      <td>1.0</td>\n",
       "      <td>part1</td>\n",
       "      <td>NaN</td>\n",
       "      <td>NaN</td>\n",
       "    </tr>\n",
       "    <tr>\n",
       "      <th>2</th>\n",
       "      <td>1000</td>\n",
       "      <td>2</td>\n",
       "      <td>943</td>\n",
       "      <td>255</td>\n",
       "      <td>2.0</td>\n",
       "      <td>part2</td>\n",
       "      <td>3.0</td>\n",
       "      <td>part3</td>\n",
       "    </tr>\n",
       "  </tbody>\n",
       "</table>\n",
       "</div>"
      ],
      "text/plain": [
       "   id.M_CD  id.UP_TIME  sensor.POWER  sensor.TEMP  code.0.ERR_CD  \\\n",
       "0     1000           0           948          250            NaN   \n",
       "1     1000           1           945          251            1.0   \n",
       "2     1000           2           943          255            2.0   \n",
       "\n",
       "  code.0.MESSAGE  code.1.ERR_CD code.1.MESSAGE  \n",
       "0            NaN            NaN            NaN  \n",
       "1          part1            NaN            NaN  \n",
       "2          part2            3.0          part3  "
      ]
     },
     "execution_count": 11,
     "metadata": {},
     "output_type": "execute_result"
    }
   ],
   "source": [
    "flattenJsonFile('sample3.json','')"
   ]
  },
  {
   "cell_type": "code",
   "execution_count": null,
   "metadata": {},
   "outputs": [],
   "source": [
    "df_automate = flattenJsonFile('power_automate.json','')\n",
    "df_automate"
   ]
  },
  {
   "cell_type": "markdown",
   "metadata": {},
   "source": [
    "## resultsのJSONのみ抽出する"
   ]
  },
  {
   "cell_type": "code",
   "execution_count": null,
   "metadata": {},
   "outputs": [],
   "source": [
    "# まずはシリアライズ\n",
    "json_file = 'power_automate.json'\n",
    "\n",
    "with open(json_file, encoding='utf-8') as f:\n",
    "    nest_json_data = json.load(f)\n",
    "\n",
    "# pandasでノーマライズ\n",
    "df = pd.json_normalize(nest_json_data)\n",
    "df.to_csv('power_automate.csv', index=False)\n"
   ]
  },
  {
   "cell_type": "markdown",
   "metadata": {},
   "source": [
    "## Power AutomateのJSONを解析したい場合はネストされた項目から必要項目のみ抜き出した方が扱いやすい\n",
    "- flattenで1行xx列のデータにすると、ユーザーID毎に行を作成できないため"
   ]
  },
  {
   "cell_type": "code",
   "execution_count": null,
   "metadata": {},
   "outputs": [],
   "source": []
  }
 ],
 "metadata": {
  "kernelspec": {
   "display_name": "venv",
   "language": "python",
   "name": "python3"
  },
  "language_info": {
   "codemirror_mode": {
    "name": "ipython",
    "version": 3
   },
   "file_extension": ".py",
   "mimetype": "text/x-python",
   "name": "python",
   "nbconvert_exporter": "python",
   "pygments_lexer": "ipython3",
   "version": "3.12.2"
  }
 },
 "nbformat": 4,
 "nbformat_minor": 2
}
